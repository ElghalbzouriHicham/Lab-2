{
  "cells": [
    {
      "cell_type": "code",
      "execution_count": null,
      "metadata": {
        "id": "6-HdJuseElSQ"
      },
      "outputs": [],
      "source": [
        "! mkdir ~/.kaggle"
      ]
    },
    {
      "cell_type": "code",
      "execution_count": null,
      "metadata": {
        "colab": {
          "base_uri": "https://localhost:8080/"
        },
        "id": "Hl-_VwR4EmAL",
        "outputId": "5178c5cf-ad99-4cec-8709-ff552eead4a2"
      },
      "outputs": [
        {
          "name": "stdout",
          "output_type": "stream",
          "text": [
            "Mounted at /content/drive\n"
          ]
        }
      ],
      "source": [
        "from google.colab import drive\n",
        "drive.mount('/content/drive')"
      ]
    },
    {
      "cell_type": "code",
      "execution_count": null,
      "metadata": {
        "id": "ZZFMBbhcErfP"
      },
      "outputs": [],
      "source": [
        "!cp /content/drive/MyDrive/kaggle.json ~/.kaggle/kaggle.json"
      ]
    },
    {
      "cell_type": "code",
      "execution_count": null,
      "metadata": {
        "id": "DKSDZoXvEv-A"
      },
      "outputs": [],
      "source": [
        "! chmod 600 ~/.kaggle/kaggle.json"
      ]
    },
    {
      "cell_type": "code",
      "execution_count": null,
      "metadata": {
        "colab": {
          "base_uri": "https://localhost:8080/"
        },
        "id": "itPSaMY-EyHz",
        "outputId": "0747f9b0-64e2-4453-b9e7-38172f4feb20"
      },
      "outputs": [
        {
          "name": "stdout",
          "output_type": "stream",
          "text": [
            "Dataset URL: https://www.kaggle.com/datasets/hojjatk/mnist-dataset\n",
            "License(s): copyright-authors\n",
            "Downloading mnist-dataset.zip to /content\n",
            " 95% 21.0M/22.0M [00:01<00:00, 31.9MB/s]\n",
            "100% 22.0M/22.0M [00:01<00:00, 20.1MB/s]\n"
          ]
        }
      ],
      "source": [
        "! kaggle datasets download hojjatk/mnist-dataset"
      ]
    },
    {
      "cell_type": "code",
      "execution_count": null,
      "metadata": {
        "colab": {
          "base_uri": "https://localhost:8080/"
        },
        "id": "QuYmA6PBE2vH",
        "outputId": "bc0e1ee6-5100-4dd7-cfa0-b7bcddef411e"
      },
      "outputs": [
        {
          "name": "stdout",
          "output_type": "stream",
          "text": [
            "Archive:  /content/mnist-dataset.zip\n",
            "  inflating: /content/dataset/t10k-images-idx3-ubyte/t10k-images-idx3-ubyte  \n",
            "  inflating: /content/dataset/t10k-images.idx3-ubyte  \n",
            "  inflating: /content/dataset/t10k-labels-idx1-ubyte/t10k-labels-idx1-ubyte  \n",
            "  inflating: /content/dataset/t10k-labels.idx1-ubyte  \n",
            "  inflating: /content/dataset/train-images-idx3-ubyte/train-images-idx3-ubyte  \n",
            "  inflating: /content/dataset/train-images.idx3-ubyte  \n",
            "  inflating: /content/dataset/train-labels-idx1-ubyte/train-labels-idx1-ubyte  \n",
            "  inflating: /content/dataset/train-labels.idx1-ubyte  \n"
          ]
        }
      ],
      "source": [
        "!unzip /content/mnist-dataset.zip -d /content/dataset"
      ]
    },
    {
      "cell_type": "code",
      "execution_count": null,
      "metadata": {
        "id": "kIj3d3kNEc2R"
      },
      "outputs": [],
      "source": [
        "import torch\n",
        "import torch.nn as nn\n",
        "import torch.optim as optim\n",
        "import torchvision.transforms as transforms\n",
        "import torchvision.datasets as datasets\n",
        "import torchvision.models as models\n",
        "from torch.utils.data import DataLoader\n",
        "from torchvision.models.detection import fasterrcnn_resnet50_fpn"
      ]
    },
    {
      "cell_type": "code",
      "execution_count": null,
      "metadata": {
        "colab": {
          "base_uri": "https://localhost:8080/"
        },
        "id": "I_D8cnU0FJrL",
        "outputId": "bae52342-ae99-421f-d7ee-8bfd0c69cd21"
      },
      "outputs": [
        {
          "name": "stdout",
          "output_type": "stream",
          "text": [
            "Collecting idx2numpy\n",
            "  Downloading idx2numpy-1.2.3.tar.gz (6.8 kB)\n",
            "  Preparing metadata (setup.py) ... \u001b[?25l\u001b[?25hdone\n",
            "Requirement already satisfied: numpy in /usr/local/lib/python3.10/dist-packages (from idx2numpy) (1.26.4)\n",
            "Requirement already satisfied: six in /usr/local/lib/python3.10/dist-packages (from idx2numpy) (1.16.0)\n",
            "Building wheels for collected packages: idx2numpy\n",
            "  Building wheel for idx2numpy (setup.py) ... \u001b[?25l\u001b[?25hdone\n",
            "  Created wheel for idx2numpy: filename=idx2numpy-1.2.3-py3-none-any.whl size=7904 sha256=cee9d43e92f5b40a6fe0fa4d378706da9f6e7aa5d4df0da9dfa2c34479bb224c\n",
            "  Stored in directory: /root/.cache/pip/wheels/e0/f4/e7/643fc5f932ec2ff92997f43f007660feb23f948aa8486f1107\n",
            "Successfully built idx2numpy\n",
            "Installing collected packages: idx2numpy\n",
            "Successfully installed idx2numpy-1.2.3\n"
          ]
        }
      ],
      "source": [
        "!pip install idx2numpy\n"
      ]
    },
    {
      "cell_type": "code",
      "execution_count": null,
      "metadata": {
        "id": "_xeJPh9yFNtb"
      },
      "outputs": [],
      "source": [
        "import idx2numpy\n",
        "\n",
        "# Paths to your IDX files\n",
        "test_images_path = '/content/dataset/t10k-images-idx3-ubyte/t10k-images-idx3-ubyte'\n",
        "train_images_path = '/content/dataset/train-images-idx3-ubyte/train-images-idx3-ubyte'\n",
        "train_labels_path = '/content/dataset/train-labels-idx1-ubyte/train-labels-idx1-ubyte'\n",
        "test_labels_path = '/content/dataset/t10k-labels-idx1-ubyte/t10k-labels-idx1-ubyte'\n",
        "\n",
        "# Load the IDX files into NumPy arrays\n",
        "\n",
        "# Load data into NumPy arrays\n",
        "train_images = idx2numpy.convert_from_file(train_images_path)\n",
        "train_labels = idx2numpy.convert_from_file(train_labels_path)\n",
        "test_images = idx2numpy.convert_from_file(test_images_path)\n",
        "test_labels = idx2numpy.convert_from_file(test_labels_path)\n"
      ]
    },
    {
      "cell_type": "code",
      "execution_count": null,
      "metadata": {
        "colab": {
          "base_uri": "https://localhost:8080/"
        },
        "id": "MbSx89NYFQuC",
        "outputId": "960fafd5-0d69-4d9d-9969-ba23ba41fe9e"
      },
      "outputs": [
        {
          "name": "stdout",
          "output_type": "stream",
          "text": [
            "test Images shape: (10000, 28, 28)\n",
            "train images shape: (60000, 28, 28)\n"
          ]
        }
      ],
      "source": [
        "print(f\"test Images shape: {test_images.shape}\")  # Expected: (num_samples, 28, 28) for MNIST\n",
        "print(f\"train images shape: {train_images.shape}\")  # Expected: (num_samples,)"
      ]
    },
    {
      "cell_type": "code",
      "execution_count": null,
      "metadata": {
        "colab": {
          "base_uri": "https://localhost:8080/",
          "height": 452
        },
        "id": "oI0TmRoNFV_T",
        "outputId": "2c5ccc93-563b-4689-a93b-b665b33c76de"
      },
      "outputs": [
        {
          "data": {
            "image/png": "[encoded data removed]",
            "text/plain": [
              "<Figure size 640x480 with 1 Axes>"
            ]
          },
          "metadata": {},
          "output_type": "display_data"
        }
      ],
      "source": [
        "# Display a sample image and label\n",
        "import matplotlib.pyplot as plt\n",
        "\n",
        "plt.imshow(train_images[0], cmap='gray')\n",
        "plt.title(f\"Label: {train_labels[0]}\")\n",
        "plt.show()"
      ]
    },
    {
      "cell_type": "code",
      "execution_count": null,
      "metadata": {
        "id": "7vTd6HMfa63f"
      },
      "outputs": [],
      "source": [
        "# Normaliser les images pour les adapter à Faster R-CNN\n",
        "def normalize_images(images):\n",
        "    return images / 255.0"
      ]
    },
    {
      "cell_type": "code",
      "execution_count": null,
      "metadata": {
        "id": "x4FxUvpRa_ha"
      },
      "outputs": [],
      "source": [
        "train_images = normalize_images(train_images)\n",
        "test_images = normalize_images(test_images)"
      ]
    },
    {
      "cell_type": "code",
      "execution_count": null,
      "metadata": {
        "colab": {
          "background_save": true
        },
        "id": "jQuXuxE0aM4-"
      },
      "outputs": [],
      "source": [
        "# Définir un Dataset pour MNIST avec bounding boxes fictives\n",
        "class MNISTFasterRCNNDataset(Dataset):\n",
        "    def __init__(self, images, labels):\n",
        "        self.images = images\n",
        "        self.labels = labels\n",
        "\n",
        "    def __len__(self):\n",
        "        return len(self.images)\n",
        "\n",
        "    def __getitem__(self, idx):\n",
        "        image = self.images[idx]\n",
        "        label = self.labels[idx]\n",
        "\n",
        "        # Simuler une bounding box autour du chiffre\n",
        "        boxes = torch.tensor([[5, 5, 23, 23]], dtype=torch.float32)  # Ex.: box centrale pour 28x28\n",
        "        labels = torch.tensor([label], dtype=torch.int64)\n",
        "\n",
        "        # Convertir en format compatible avec Faster R-CNN\n",
        "        target = {\"boxes\": boxes, \"labels\": labels}\n",
        "\n",
        "        # Convertir l'image au format tensor\n",
        "        image = torch.tensor(image, dtype=torch.float32).unsqueeze(0)  # Ajouter canal\n",
        "\n",
        "        return image, target"
      ]
    },
    {
      "cell_type": "code",
      "execution_count": null,
      "metadata": {
        "id": "ylcjzu1tFXgF"
      },
      "outputs": [],
      "source": [
        "import torch\n",
        "from torch.utils.data import TensorDataset, DataLoader\n",
        "\n",
        "# Normalize and convert images to float tensors\n",
        "test_images_tensor = torch.tensor(test_images / 255.0, dtype=torch.float32).unsqueeze(1)  # Add channel dimension\n",
        "test_labels_tensor = torch.tensor(test_labels, dtype=torch.long)\n",
        "train_images_tensor = torch.tensor(train_images / 255.0, dtype=torch.float32).unsqueeze(1)  # Add channel dimension\n",
        "train_labels_tensor = torch.tensor(train_labels, dtype=torch.long)\n",
        "# Create a TensorDataset and DataLoader\n",
        "train_dataset = TensorDataset(train_images_tensor, train_labels_tensor)\n",
        "train_loader = DataLoader(train_dataset, batch_size=64, shuffle=True)"
      ]
    },
    {
      "cell_type": "code",
      "execution_count": null,
      "metadata": {
        "id": "9LJ7G0Z_FdSK"
      },
      "outputs": [],
      "source": [
        "test_dataset = TensorDataset(test_images_tensor, test_labels_tensor)\n",
        "test_loader = DataLoader(test_dataset, batch_size=64, shuffle=True)"
      ]
    },
    {
      "cell_type": "code",
      "execution_count": null,
      "metadata": {
        "id": "cJxI3xYlFrRy"
      },
      "outputs": [],
      "source": [
        "class CNNModel(nn.Module):\n",
        "    def __init__(self):\n",
        "        super(CNNModel, self).__init__()\n",
        "        # Convolutional layers\n",
        "        self.conv1 = nn.Conv2d(1, 32, kernel_size=3, stride=1, padding=1)\n",
        "        self.conv2 = nn.Conv2d(32, 64, kernel_size=3, stride=1, padding=1)\n",
        "        self.pool = nn.MaxPool2d(kernel_size=2, stride=2)\n",
        "\n",
        "        # Fully connected layers\n",
        "        self.fc1 = nn.Linear(64 * 7 * 7, 128)\n",
        "        self.fc2 = nn.Linear(128, 10)  # 10 classes for MNIST\n",
        "\n",
        "        # Dropout\n",
        "        self.dropout = nn.Dropout(0.25)\n",
        "\n",
        "    def forward(self, x):\n",
        "        x = self.pool(torch.relu(self.conv1(x)))\n",
        "        x = self.pool(torch.relu(self.conv2(x)))\n",
        "        x = x.view(-1, 64 * 7 * 7)\n",
        "        x = torch.relu(self.fc1(x))\n",
        "        x = self.dropout(x)\n",
        "        x = self.fc2(x)\n",
        "        return x\n",
        "\n",
        "# Initialize model, loss function, optimizer\n",
        "device = torch.device(\"cuda\" if torch.cuda.is_available() else \"cpu\")\n",
        "model = CNNModel().to(device)\n",
        "criterion = nn.CrossEntropyLoss()\n",
        "optimizer = optim.Adam(model.parameters(), lr=0.001, weight_decay=0.0001)\n"
      ]
    },
    {
      "cell_type": "code",
      "execution_count": null,
      "metadata": {
        "colab": {
          "base_uri": "https://localhost:8080/"
        },
        "id": "fVhrA0qQFthj",
        "outputId": "b99eca8d-e14a-4b70-a7b0-20fcef9d1e8c"
      },
      "outputs": [
        {
          "name": "stdout",
          "output_type": "stream",
          "text": [
            "Epoch [1/10], Loss: 0.2191\n",
            "Epoch [2/10], Loss: 0.0674\n",
            "Epoch [3/10], Loss: 0.0502\n",
            "Epoch [4/10], Loss: 0.0416\n",
            "Epoch [5/10], Loss: 0.0356\n",
            "Epoch [6/10], Loss: 0.0320\n",
            "Epoch [7/10], Loss: 0.0290\n",
            "Epoch [8/10], Loss: 0.0266\n",
            "Epoch [9/10], Loss: 0.0240\n",
            "Epoch [10/10], Loss: 0.0221\n",
            "Training complete.\n"
          ]
        }
      ],
      "source": [
        "num_epochs = 10\n",
        "for epoch in range(num_epochs):\n",
        "    model.train()\n",
        "    running_loss = 0.0\n",
        "\n",
        "    for images, labels in train_loader:\n",
        "        images, labels = images.to(device), labels.to(device)\n",
        "\n",
        "        # Zero gradients\n",
        "        optimizer.zero_grad()\n",
        "\n",
        "        # Forward pass\n",
        "        outputs = model(images)\n",
        "        loss = criterion(outputs, labels)\n",
        "\n",
        "        # Backward pass and optimization\n",
        "        loss.backward()\n",
        "        optimizer.step()\n",
        "\n",
        "        running_loss += loss.item()\n",
        "\n",
        "    print(f\"Epoch [{epoch+1}/{num_epochs}], Loss: {running_loss/len(train_loader):.4f}\")\n",
        "\n",
        "print(\"Training complete.\")\n"
      ]
    },
    {
      "cell_type": "code",
      "execution_count": null,
      "metadata": {
        "colab": {
          "base_uri": "https://localhost:8080/"
        },
        "id": "X3HwBfCkF-MP",
        "outputId": "833aa7f4-ca53-46d7-c927-88ab63b039a5"
      },
      "outputs": [
        {
          "name": "stdout",
          "output_type": "stream",
          "text": [
            "Test Accuracy: 99.10%\n"
          ]
        }
      ],
      "source": [
        "# Evaluate accuracy on test data\n",
        "model.eval()\n",
        "correct = 0\n",
        "total = 0\n",
        "\n",
        "with torch.no_grad():\n",
        "    for images, labels in test_loader:\n",
        "        images, labels = images.to(device), labels.to(device)\n",
        "        outputs = model(images)\n",
        "        _, predicted = torch.max(outputs, 1)\n",
        "        correct += (predicted == labels).sum().item()\n",
        "        total += labels.size(0)\n",
        "\n",
        "accuracy = 100 * correct / total\n",
        "print(f\"Test Accuracy: {accuracy:.2f}%\")\n"
      ]
    },
    {
      "cell_type": "code",
      "execution_count": null,
      "metadata": {
        "colab": {
          "base_uri": "https://localhost:8080/"
        },
        "id": "LGD60YZ_GEp-",
        "outputId": "fafa1068-dc4a-4347-9494-64ecfc024650"
      },
      "outputs": [
        {
          "name": "stderr",
          "output_type": "stream",
          "text": [
            "/usr/local/lib/python3.10/dist-packages/torchvision/models/_utils.py:208: UserWarning: The parameter 'pretrained' is deprecated since 0.13 and may be removed in the future, please use 'weights' instead.\n",
            "  warnings.warn(\n",
            "/usr/local/lib/python3.10/dist-packages/torchvision/models/_utils.py:223: UserWarning: Arguments other than a weight enum or `None` for 'weights' are deprecated since 0.13 and may be removed in the future. The current behavior is equivalent to passing `weights=FasterRCNN_ResNet50_FPN_Weights.COCO_V1`. You can also use `weights=FasterRCNN_ResNet50_FPN_Weights.DEFAULT` to get the most up-to-date weights.\n",
            "  warnings.warn(msg)\n",
            "Downloading: \"https://download.pytorch.org/models/fasterrcnn_resnet50_fpn_coco-258fb6c6.pth\" to /root/.cache/torch/hub/checkpoints/fasterrcnn_resnet50_fpn_coco-258fb6c6.pth\n",
            "100%|██████████| 160M/160M [00:01<00:00, 101MB/s] \n"
          ]
        }
      ],
      "source": [
        "# Define the Faster R-CNN model using a pretrained backbone\n",
        "faster_rcnn_model = fasterrcnn_resnet50_fpn(pretrained=True)\n",
        "\n",
        "# Adjust for single-channel input by changing the first layer\n",
        "faster_rcnn_model.backbone.body.conv1 = nn.Conv2d(1, 64, kernel_size=7, stride=2, padding=3, bias=False)\n",
        "faster_rcnn_model = faster_rcnn_model.to(device)\n",
        "\n",
        "# Define optimizer\n",
        "optimizer = optim.Adam(faster_rcnn_model.parameters(), lr=0.001, weight_decay=0.0001)\n"
      ]
    },
    {
      "cell_type": "code",
      "execution_count": null,
      "metadata": {
        "colab": {
          "base_uri": "https://localhost:8080/"
        },
        "id": "kkj_qJ-GUtH6",
        "outputId": "2bd5155b-541a-437d-ffce-634b6bcb8ed3"
      },
      "outputs": [
        {
          "name": "stdout",
          "output_type": "stream",
          "text": [
            "tensor([4, 5, 4, 1, 8, 1, 4, 3, 1, 2, 0, 9, 0, 4, 4, 1, 9, 5, 1, 4, 4, 5, 6, 5,\n",
            "        1, 4, 9, 9, 0, 6, 5, 2, 8, 2, 0, 7, 9, 7, 1, 3, 7, 1, 8, 7, 6, 6, 2, 7,\n",
            "        0, 8, 3, 8, 9, 4, 3, 7, 4, 1, 3, 9, 3, 1, 5, 8])\n"
          ]
        }
      ],
      "source": [
        "print(targets)\n"
      ]
    },
    {
      "cell_type": "code",
      "execution_count": null,
      "metadata": {
        "colab": {
          "base_uri": "https://localhost:8080/"
        },
        "id": "c-cS8rjiXIpf",
        "outputId": "cfe48d4c-c711-431f-949a-e8197d41a6ae"
      },
      "outputs": [
        {
          "name": "stdout",
          "output_type": "stream",
          "text": [
            "{'boxes': tensor([[7.6526e+01, 1.7898e+01, 7.5478e+01, 2.8412e+01],\n",
            "        [1.3076e+00, 5.2777e+01, 7.6061e+01, 3.8386e+01],\n",
            "        [8.4976e+01, 7.4788e+01, 9.4887e+01, 7.9003e+01],\n",
            "        [6.4492e-03, 3.3144e+01, 3.6768e+01, 8.7017e+00],\n",
            "        [5.2413e+01, 2.6269e+01, 7.4632e+01, 3.5136e+01]]), 'labels': tensor([0, 0, 0, 0, 0])}\n",
            "{'boxes': tensor([[58.0596, 49.5603, 45.4551, 35.1574],\n",
            "        [73.9628, 47.7602, 66.2771, 40.7150],\n",
            "        [ 8.3619, 19.0662, 42.4841, 20.4778],\n",
            "        [82.0779, 97.0246, 70.3340, 86.1105],\n",
            "        [66.6563,  8.4640, 17.6618, 29.7670],\n",
            "        [ 4.1887,  8.0496, 26.5035, 87.4529],\n",
            "        [57.1349,  2.9281, 18.3865, 35.5062],\n",
            "        [76.9857, 85.1556, 56.2616, 51.2997],\n",
            "        [39.7901, 92.1011, 74.8647, 45.9141],\n",
            "        [59.4965, 79.4345, 83.3894, 91.0258]]), 'labels': tensor([1, 1, 1, 1, 1, 1, 1, 1, 1, 1])}\n",
            "{'boxes': tensor([[92.8304,  1.9539, 13.9582, 68.7597],\n",
            "        [ 2.8276, 61.2099, 65.5785, 77.5625],\n",
            "        [30.0452, 87.8155, 83.0304, 95.0263],\n",
            "        [69.4648, 52.6563,  0.2767, 26.1807]]), 'labels': tensor([2, 2, 2, 2])}\n",
            "{'boxes': tensor([[21.6864, 58.8183, 11.1148, 53.2097],\n",
            "        [95.7989, 51.3789, 83.0398, 10.7409],\n",
            "        [88.7629, 56.4220, 97.9046, 97.2751],\n",
            "        [95.9193, 67.4157, 84.4953, 18.6800],\n",
            "        [61.9484, 35.6684, 75.7349, 34.8238],\n",
            "        [10.2873, 68.9874, 81.9296, 36.7498]]), 'labels': tensor([3, 3, 3, 3, 3, 3])}\n",
            "{'boxes': tensor([[48.6156, 65.3708, 12.5955, 28.8655],\n",
            "        [72.0954, 67.7960, 96.4761, 54.4337],\n",
            "        [29.6897, 80.5766, 34.3125, 53.0337],\n",
            "        [34.9368, 64.6433, 29.4074, 40.9460],\n",
            "        [65.9775, 99.6704, 81.7866, 62.6936],\n",
            "        [39.0126, 89.3045, 93.3497, 43.9049],\n",
            "        [23.4186, 50.7926, 20.0685, 39.6502],\n",
            "        [11.6304,  8.4351, 52.4280, 21.7324],\n",
            "        [59.3557, 63.6969, 97.6878, 26.4954],\n",
            "        [98.7903, 42.7299,  5.4505, 38.6676]]), 'labels': tensor([4, 4, 4, 4, 4, 4, 4, 4, 4, 4])}\n",
            "{'boxes': tensor([[87.4963, 33.1976, 24.4084, 35.0909],\n",
            "        [77.6471,  9.6735, 97.9658, 94.5536],\n",
            "        [89.4453, 48.6665, 74.4535,  3.3323],\n",
            "        [32.7917, 95.6568, 58.4702,  6.9011],\n",
            "        [ 5.8772, 35.7766, 49.4966, 75.6545],\n",
            "        [99.1249, 59.7192, 69.5702, 44.3558]]), 'labels': tensor([5, 5, 5, 5, 5, 5])}\n",
            "{'boxes': tensor([[45.1608, 56.7209, 90.2749, 40.2809],\n",
            "        [ 4.6909, 14.7066, 38.6223, 42.8275],\n",
            "        [93.2432, 72.0143, 79.9691, 42.4129],\n",
            "        [87.5020, 75.8966,  1.9824,  1.2523]]), 'labels': tensor([6, 6, 6, 6])}\n",
            "{'boxes': tensor([[88.0797, 58.3273, 17.9953, 82.1681],\n",
            "        [ 2.8696, 43.4975, 81.1819, 19.1963],\n",
            "        [92.1450, 45.6750, 69.5382, 59.6642],\n",
            "        [55.2643, 63.2749, 94.8682, 41.1228],\n",
            "        [81.2015, 24.7160,  6.1803, 52.6913],\n",
            "        [83.8246, 72.8235, 13.8839,  5.1603]]), 'labels': tensor([7, 7, 7, 7, 7, 7])}\n",
            "{'boxes': tensor([[32.2635, 33.3558, 13.8194, 85.9760],\n",
            "        [60.9412, 68.6387, 18.4630, 38.1749],\n",
            "        [79.8501, 20.0498, 96.9556,  1.3948],\n",
            "        [28.6315, 42.9998, 53.6935,  1.0181],\n",
            "        [52.3276,  3.7286, 67.7113, 33.2647],\n",
            "        [78.6862, 83.4044, 69.4210, 99.6366]]), 'labels': tensor([8, 8, 8, 8, 8, 8])}\n",
            "{'boxes': tensor([[72.6659, 76.3291, 77.2959, 36.6940],\n",
            "        [90.1341,  2.2133, 22.6034, 33.1898],\n",
            "        [20.7212, 61.7159, 99.4827, 38.1884],\n",
            "        [55.6980, 12.0507, 67.1399, 93.0630],\n",
            "        [17.2120, 99.2337, 77.4004, 26.8509],\n",
            "        [35.0105, 10.2823, 30.2988, 14.0564],\n",
            "        [80.8365, 51.5954,  6.7180, 22.6446]]), 'labels': tensor([9, 9, 9, 9, 9, 9, 9])}\n"
          ]
        }
      ],
      "source": [
        "import torch\n",
        "\n",
        "# Tensor avec des labels (ce qui est donné dans votre exemple)\n",
        "labels_tensor = torch.tensor([4, 5, 4, 1, 8, 1, 4, 3, 1, 2, 0, 9, 0, 4, 4, 1, 9, 5, 1, 4,\n",
        "                             4, 5, 6, 5, 1, 4, 9, 9, 0, 6, 5, 2, 8, 2, 0, 7, 9, 7, 1,\n",
        "                             3, 7, 1, 8, 7, 6, 6, 2, 7, 0, 8, 3, 8, 9, 4, 3, 7, 4, 1,\n",
        "                             3, 9, 3, 1, 5, 8])\n",
        "\n",
        "# Fonction pour générer des boîtes fictives (par exemple, des coordonnées aléatoires)\n",
        "def generate_boxes(num_boxes):\n",
        "    return torch.rand((num_boxes, 4)) * 100  # Génère des boîtes avec des coordonnées aléatoires dans une image de 100x100\n",
        "\n",
        "# Conversion du tensor en liste de dictionnaires\n",
        "targets = []\n",
        "for label in labels_tensor.unique():  # On prend chaque label unique\n",
        "    num_objects = (labels_tensor == label).sum().item()  # Compter combien d'objets ont ce label\n",
        "    boxes = generate_boxes(num_objects)  # Générer des boîtes fictives pour ces objets\n",
        "    target = {'boxes': boxes, 'labels': torch.full((num_objects,), label, dtype=torch.int64)}  # Créer le dictionnaire\n",
        "    targets.append(target)\n",
        "\n",
        "# Afficher le résultat\n",
        "for target in targets:\n",
        "    print(target)\n"
      ]
    },
    {
      "cell_type": "code",
      "execution_count": null,
      "metadata": {
        "colab": {
          "base_uri": "https://localhost:8080/",
          "height": 401
        },
        "id": "nmRUrdOdRQaz",
        "outputId": "fc9d6731-8ace-48ab-82a8-755d941b5bf0"
      },
      "outputs": [
        {
          "ename": "AttributeError",
          "evalue": "'Tensor' object has no attribute 'items'",
          "output_type": "error",
          "traceback": [
            "\u001b[0;31m---------------------------------------------------------------------------\u001b[0m",
            "\u001b[0;31mAttributeError\u001b[0m                            Traceback (most recent call last)",
            "\u001b[0;32m<ipython-input-34-40f6d8ee02f7>\u001b[0m in \u001b[0;36m<cell line: 2>\u001b[0;34m()\u001b[0m\n\u001b[1;32m      4\u001b[0m \u001b[0;34m\u001b[0m\u001b[0m\n\u001b[1;32m      5\u001b[0m     \u001b[0;31m# Assurez-vous que 'targets' contient des dictionnaires et appliquez .to(device) uniquement sur les tensors\u001b[0m\u001b[0;34m\u001b[0m\u001b[0;34m\u001b[0m\u001b[0m\n\u001b[0;32m----> 6\u001b[0;31m     targets = [\n\u001b[0m\u001b[1;32m      7\u001b[0m         \u001b[0;34m{\u001b[0m\u001b[0mk\u001b[0m\u001b[0;34m:\u001b[0m \u001b[0mv\u001b[0m\u001b[0;34m.\u001b[0m\u001b[0mto\u001b[0m\u001b[0;34m(\u001b[0m\u001b[0mdevice\u001b[0m\u001b[0;34m)\u001b[0m \u001b[0;32mif\u001b[0m \u001b[0misinstance\u001b[0m\u001b[0;34m(\u001b[0m\u001b[0mv\u001b[0m\u001b[0;34m,\u001b[0m \u001b[0mtorch\u001b[0m\u001b[0;34m.\u001b[0m\u001b[0mTensor\u001b[0m\u001b[0;34m)\u001b[0m \u001b[0;32melse\u001b[0m \u001b[0mv\u001b[0m \u001b[0;32mfor\u001b[0m \u001b[0mk\u001b[0m\u001b[0;34m,\u001b[0m \u001b[0mv\u001b[0m \u001b[0;32min\u001b[0m \u001b[0mt\u001b[0m\u001b[0;34m.\u001b[0m\u001b[0mitems\u001b[0m\u001b[0;34m(\u001b[0m\u001b[0;34m)\u001b[0m\u001b[0;34m}\u001b[0m\u001b[0;34m\u001b[0m\u001b[0;34m\u001b[0m\u001b[0m\n\u001b[1;32m      8\u001b[0m         \u001b[0;32mfor\u001b[0m \u001b[0mt\u001b[0m \u001b[0;32min\u001b[0m \u001b[0mtargets\u001b[0m\u001b[0;34m\u001b[0m\u001b[0;34m\u001b[0m\u001b[0m\n",
            "\u001b[0;32m<ipython-input-34-40f6d8ee02f7>\u001b[0m in \u001b[0;36m<listcomp>\u001b[0;34m(.0)\u001b[0m\n\u001b[1;32m      5\u001b[0m     \u001b[0;31m# Assurez-vous que 'targets' contient des dictionnaires et appliquez .to(device) uniquement sur les tensors\u001b[0m\u001b[0;34m\u001b[0m\u001b[0;34m\u001b[0m\u001b[0m\n\u001b[1;32m      6\u001b[0m     targets = [\n\u001b[0;32m----> 7\u001b[0;31m         \u001b[0;34m{\u001b[0m\u001b[0mk\u001b[0m\u001b[0;34m:\u001b[0m \u001b[0mv\u001b[0m\u001b[0;34m.\u001b[0m\u001b[0mto\u001b[0m\u001b[0;34m(\u001b[0m\u001b[0mdevice\u001b[0m\u001b[0;34m)\u001b[0m \u001b[0;32mif\u001b[0m \u001b[0misinstance\u001b[0m\u001b[0;34m(\u001b[0m\u001b[0mv\u001b[0m\u001b[0;34m,\u001b[0m \u001b[0mtorch\u001b[0m\u001b[0;34m.\u001b[0m\u001b[0mTensor\u001b[0m\u001b[0;34m)\u001b[0m \u001b[0;32melse\u001b[0m \u001b[0mv\u001b[0m \u001b[0;32mfor\u001b[0m \u001b[0mk\u001b[0m\u001b[0;34m,\u001b[0m \u001b[0mv\u001b[0m \u001b[0;32min\u001b[0m \u001b[0mt\u001b[0m\u001b[0;34m.\u001b[0m\u001b[0mitems\u001b[0m\u001b[0;34m(\u001b[0m\u001b[0;34m)\u001b[0m\u001b[0;34m}\u001b[0m\u001b[0;34m\u001b[0m\u001b[0;34m\u001b[0m\u001b[0m\n\u001b[0m\u001b[1;32m      8\u001b[0m         \u001b[0;32mfor\u001b[0m \u001b[0mt\u001b[0m \u001b[0;32min\u001b[0m \u001b[0mtargets\u001b[0m\u001b[0;34m\u001b[0m\u001b[0;34m\u001b[0m\u001b[0m\n\u001b[1;32m      9\u001b[0m     ]\n",
            "\u001b[0;31mAttributeError\u001b[0m: 'Tensor' object has no attribute 'items'"
          ]
        }
      ],
      "source": [
        "# Pour chaque 'target' dans le batch\n",
        "for images, targets in train_loader:\n",
        "    images = [img.to(device) for img in images]\n",
        "\n",
        "    # Assurez-vous que 'targets' contient des dictionnaires et appliquez .to(device) uniquement sur les tensors\n",
        "    targets = [\n",
        "        {k: v.to(device) if isinstance(v, torch.Tensor) else v for k, v in t.items()}\n",
        "        for t in targets\n",
        "    ]\n",
        "\n",
        "    # Zero gradients\n",
        "    optimizer.zero_grad()\n",
        "\n",
        "    # Forward pass\n",
        "    loss_dict = faster_rcnn_model(images, targets)\n",
        "    losses = sum(loss for loss in loss_dict.values())\n",
        "\n",
        "    # Backward pass and optimization\n",
        "    losses.backward()\n",
        "    optimizer.step()\n",
        "\n",
        "    running_loss += losses.item()\n",
        "\n",
        "print(f\"Epoch [{epoch+1}/{num_epochs}], Loss: {running_loss/len(train_loader):.4f}\")\n",
        "\n"
      ]
    },
    {
      "cell_type": "code",
      "execution_count": null,
      "metadata": {
        "id": "g9c3wqNjHAUU"
      },
      "outputs": [],
      "source": [
        "# Switch to evaluation mode\n",
        "faster_rcnn_model.eval()\n",
        "\n",
        "with torch.no_grad():\n",
        "    for images, targets in test_loader:\n",
        "        images = [img.to(device) for img in images]\n",
        "        outputs = faster_rcnn_model(images)\n",
        "\n",
        "        # Process outputs as needed, such as calculating detection metrics\n",
        "        # (e.g., IoU, precision, recall) based on your annotations and predictions\n"
      ]
    }
  ],
  "metadata": {
    "accelerator": "GPU",
    "colab": {
      "gpuType": "T4",
      "provenance": []
    },
    "kernelspec": {
      "display_name": "Python 3",
      "name": "python3"
    },
    "language_info": {
      "name": "python"
    }
  },
  "nbformat": 4,
  "nbformat_minor": 0
}